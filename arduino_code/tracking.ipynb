{
 "cells": [
  {
   "cell_type": "markdown",
   "metadata": {},
   "source": [
    "track metrics https://github.com/cheind/py-motmetrics\n",
    "\n",
    "https://pub.towardsai.net/multi-object-tracking-metrics-1e602f364c0c\n",
    "\n",
    " Multiple Object Tracking Precision\n",
    "https://arxiv.org/pdf/1603.00831.pdf"
   ]
  },
  {
   "cell_type": "code",
   "execution_count": 2,
   "metadata": {},
   "outputs": [
    {
     "data": {
      "text/plain": [
       "0"
      ]
     },
     "execution_count": 2,
     "metadata": {},
     "output_type": "execute_result"
    }
   ],
   "source": [
    "import motmetrics as mm\n",
    "import numpy as np\n",
    "\n",
    "# Create an accumulator that will be updated during each frame\n",
    "acc = mm.MOTAccumulator(auto_id=True)\n",
    "\n",
    "# Call update once for per frame. For now, assume distances between\n",
    "# frame objects / hypotheses are given.\n",
    "acc.update(\n",
    "    [1, 2],                     # Ground truth objects in this frame\n",
    "    [1, 2, 3],                  # Detector hypotheses in this frame\n",
    "    [\n",
    "        [0.1, np.nan, 0.3],     # Distances from object 1 to hypotheses 1, 2, 3\n",
    "        [0.5,  0.2,   0.3]      # Distances from object 2 to hypotheses 1, 2, 3\n",
    "    ]\n",
    ")"
   ]
  },
  {
   "cell_type": "code",
   "execution_count": 3,
   "metadata": {},
   "outputs": [
    {
     "name": "stdout",
     "output_type": "stream",
     "text": [
      "                Type  OId  HId    D\n",
      "FrameId Event                      \n",
      "0       0        RAW  NaN  NaN  NaN\n",
      "        1        RAW  1.0  1.0  0.1\n",
      "        2        RAW  1.0  3.0  0.3\n",
      "        3        RAW  2.0  1.0  0.5\n",
      "        4        RAW  2.0  2.0  0.2\n",
      "        5        RAW  2.0  3.0  0.3\n",
      "        6      MATCH  1.0  1.0  0.1\n",
      "        7      MATCH  2.0  2.0  0.2\n",
      "        8         FP  NaN  3.0  NaN\n"
     ]
    }
   ],
   "source": [
    "print(acc.events)"
   ]
  },
  {
   "cell_type": "code",
   "execution_count": 4,
   "metadata": {},
   "outputs": [
    {
     "name": "stdout",
     "output_type": "stream",
     "text": [
      "                Type  OId  HId    D\n",
      "FrameId Event                      \n",
      "0       6      MATCH  1.0  1.0  0.1\n",
      "        7      MATCH  2.0  2.0  0.2\n",
      "        8         FP  NaN  3.0  NaN\n"
     ]
    }
   ],
   "source": [
    "print(acc.mot_events)"
   ]
  },
  {
   "cell_type": "code",
   "execution_count": 8,
   "metadata": {},
   "outputs": [
    {
     "name": "stdout",
     "output_type": "stream",
     "text": [
      "        Type  OId  HId    D\n",
      "Event                      \n",
      "3      MATCH  1.0  1.0  0.2\n",
      "4       MISS  2.0  NaN  NaN\n"
     ]
    },
    {
     "data": {
      "text/plain": [
       "(4, None)"
      ]
     },
     "execution_count": 8,
     "metadata": {},
     "output_type": "execute_result"
    }
   ],
   "source": [
    "frameid = acc.update(\n",
    "    [1, 2],\n",
    "    [1],\n",
    "    [\n",
    "        [0.2],\n",
    "        [0.4]\n",
    "    ]\n",
    ")\n",
    "frameid, print(acc.mot_events.loc[frameid])"
   ]
  },
  {
   "cell_type": "code",
   "execution_count": 9,
   "metadata": {},
   "outputs": [
    {
     "name": "stdout",
     "output_type": "stream",
     "text": [
      "     num_frames  mota      motp\n",
      "acc           5   0.5  0.183333\n"
     ]
    }
   ],
   "source": [
    "mh = mm.metrics.create()\n",
    "summary = mh.compute(acc, metrics=['num_frames', 'mota', 'motp'], name='acc')\n",
    "print(summary)"
   ]
  },
  {
   "cell_type": "code",
   "execution_count": 3,
   "metadata": {},
   "outputs": [
    {
     "name": "stdout",
     "output_type": "stream",
     "text": [
      "Name|Description\n",
      ":---|:---\n",
      "num_frames|Total number of frames.\n",
      "obj_frequencies|Total number of occurrences of individual objects over all frames.\n",
      "pred_frequencies|Total number of occurrences of individual predictions over all frames.\n",
      "num_matches|Total number matches.\n",
      "num_switches|Total number of track switches.\n",
      "num_transfer|Total number of track transfer.\n",
      "num_ascend|Total number of track ascend.\n",
      "num_migrate|Total number of track migrate.\n",
      "num_false_positives|Total number of false positives (false-alarms).\n",
      "num_misses|Total number of misses.\n",
      "num_detections|Total number of detected objects including matches and switches.\n",
      "num_objects|Total number of unique object appearances over all frames.\n",
      "num_predictions|Total number of unique prediction appearances over all frames.\n",
      "num_unique_objects|Total number of unique object ids encountered.\n",
      "track_ratios|Ratio of assigned to total appearance count per unique object id.\n",
      "mostly_tracked|Number of objects tracked for at least 80 percent of lifespan.\n",
      "partially_tracked|Number of objects tracked between 20 and 80 percent of lifespan.\n",
      "mostly_lost|Number of objects tracked less than 20 percent of lifespan.\n",
      "num_fragmentations|Total number of switches from tracked to not tracked.\n",
      "motp|Multiple object tracker precision.\n",
      "mota|Multiple object tracker accuracy.\n",
      "precision|Number of detected objects over sum of detected and false positives.\n",
      "recall|Number of detections over number of objects.\n",
      "id_global_assignment|ID measures: Global min-cost assignment for ID measures.\n",
      "idfp|ID measures: Number of false positive matches after global min-cost matching.\n",
      "idfn|ID measures: Number of false negatives matches after global min-cost matching.\n",
      "idtp|ID measures: Number of true positives matches after global min-cost matching.\n",
      "idp|ID measures: global min-cost precision.\n",
      "idr|ID measures: global min-cost recall.\n",
      "idf1|ID measures: global min-cost F1 score.\n",
      "\n"
     ]
    }
   ],
   "source": [
    "import motmetrics as mm\n",
    "# List all default metrics\n",
    "mh = mm.metrics.create()\n",
    "print(mh.list_metrics_markdown())"
   ]
  },
  {
   "cell_type": "code",
   "execution_count": null,
   "metadata": {},
   "outputs": [],
   "source": []
  },
  {
   "cell_type": "code",
   "execution_count": null,
   "metadata": {},
   "outputs": [],
   "source": []
  }
 ],
 "metadata": {
  "kernelspec": {
   "display_name": "base",
   "language": "python",
   "name": "python3"
  },
  "language_info": {
   "codemirror_mode": {
    "name": "ipython",
    "version": 3
   },
   "file_extension": ".py",
   "mimetype": "text/x-python",
   "name": "python",
   "nbconvert_exporter": "python",
   "pygments_lexer": "ipython3",
   "version": "3.9.18"
  }
 },
 "nbformat": 4,
 "nbformat_minor": 2
}
